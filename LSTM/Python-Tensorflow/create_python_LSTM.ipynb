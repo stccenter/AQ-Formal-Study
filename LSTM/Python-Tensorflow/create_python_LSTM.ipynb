{
 "cells": [
  {
   "cell_type": "code",
   "execution_count": null,
   "id": "initial_id",
   "metadata": {
    "ExecuteTime": {
     "end_time": "2024-04-25T16:19:42.190147Z",
     "start_time": "2024-04-25T16:19:23.484166Z"
    },
    "collapsed": true
   },
   "outputs": [],
   "source": [
    "import numpy as np\n",
    "import pandas as pd\n",
    "import os\n",
    "from sklearn.metrics import mean_squared_error, r2_score\n",
    "from sklearn.preprocessing import StandardScaler\n",
    "\n",
    "from tensorflow.keras.models import Sequential\n",
    "from tensorflow.keras.layers import LSTM, Dense\n",
    "from tensorflow.keras.optimizers import Adam\n",
    "from tensorflow.keras.saving import register_keras_serializable\n",
    "import tensorflow.keras.backend as K\n",
    "\n",
    "TRAIN_DATA_DIRECTORY = 'path/to/your/train/data'"
   ]
  },
  {
   "cell_type": "code",
   "execution_count": null,
   "id": "3274ee90efb37a86",
   "metadata": {
    "ExecuteTime": {
     "end_time": "2024-04-25T16:22:14.074110Z",
     "start_time": "2024-04-25T16:22:14.064088Z"
    },
    "collapsed": false
   },
   "outputs": [],
   "source": [
    "#define HPS\n",
    "epoch=30\n",
    "batchsize=32\n",
    "units1=50\n",
    "units2=50\n",
    "lrate=0.001"
   ]
  },
  {
   "cell_type": "code",
   "execution_count": null,
   "id": "44a2d83a07c24831",
   "metadata": {
    "ExecuteTime": {
     "end_time": "2024-04-25T16:19:44.560181Z",
     "start_time": "2024-04-25T16:19:44.548117Z"
    },
    "collapsed": false
   },
   "outputs": [],
   "source": [
    "#define metrics\n",
    "# Decorate the custom rmse function\n",
    "@register_keras_serializable()\n",
    "def rmse(y_true, y_pred):\n",
    "    return K.sqrt(K.mean(K.square(y_pred - y_true)))\n",
    "\n",
    "def r_squared(y_true, y_pred):\n",
    "    ss_res = K.sum(K.square(y_true - y_pred))\n",
    "    ss_tot = K.sum(K.square(y_true - K.mean(y_true)))\n",
    "    return (1 - ss_res/(ss_tot + K.epsilon()))"
   ]
  },
  {
   "cell_type": "code",
   "execution_count": null,
   "id": "5fe27f4166783638",
   "metadata": {
    "ExecuteTime": {
     "end_time": "2024-04-25T16:21:45.146195Z",
     "start_time": "2024-04-25T16:21:44.711737Z"
    },
    "collapsed": false
   },
   "outputs": [],
   "source": [
    "#read in training data\n",
    "#read in numpy arrays \n",
    "X_train=np.load(f\"{TRAIN_DATA_DIRECTORY}/Processed_TF_LSTM/x_train.npy\")\n",
    "X_test=np.load(f\"{TRAIN_DATA_DIRECTORY}/Processed_TF_LSTM/x_test.npy\")\n",
    "y_train=np.load(f\"{TRAIN_DATA_DIRECTORY}/Processed_TF_LSTM/y_train.npy\")\n",
    "y_test=np.load(f\"{TRAIN_DATA_DIRECTORY}/Processed_TF_LSTM/y_test.npy\")"
   ]
  },
  {
   "cell_type": "code",
   "execution_count": null,
   "id": "1cd3c8221781b017",
   "metadata": {
    "ExecuteTime": {
     "end_time": "2024-04-25T16:22:16.588114Z",
     "start_time": "2024-04-25T16:22:16.548909Z"
    },
    "collapsed": false
   },
   "outputs": [],
   "source": [
    "#Define model\n",
    "model = Sequential()\n",
    "model.add(LSTM(units1, return_sequences=True, input_shape=(X_train.shape[1], X_train.shape[2])))\n",
    "model.add(LSTM(units2, return_sequences=False))  # Second LSTM layer with 100 units, return_sequences is False for the final LSTM layer\n",
    "model.add(Dense(1))\n",
    "model.compile(optimizer=Adam(learning_rate=0.001), loss='mean_squared_error')\n"
   ]
  },
  {
   "cell_type": "code",
   "execution_count": null,
   "id": "2bb697b9645f73b4",
   "metadata": {
    "ExecuteTime": {
     "end_time": "2024-04-25T17:25:56.703575Z",
     "start_time": "2024-04-25T16:22:17.290963Z"
    },
    "collapsed": false
   },
   "outputs": [],
   "source": [
    "# Train the model\n",
    "history = model.fit(X_train, y_train, epochs=epoch, batch_size=batchsize, verbose=2)\n",
    "# Create a DataFrame from the training history\n",
    "history_df = pd.DataFrame(history.history)\n",
    "history_df['epoch'] = history_df.index + 1  # Add epoch column\n",
    "\n",
    "# Display the DataFrame\n",
    "print(history_df)"
   ]
  },
  {
   "cell_type": "code",
   "execution_count": null,
   "id": "c9b766220fba10fe",
   "metadata": {
    "ExecuteTime": {
     "end_time": "2024-04-15T18:38:22.686465Z",
     "start_time": "2024-04-15T18:38:22.668202Z"
    },
    "collapsed": false
   },
   "outputs": [],
   "source": [
    "#save history as df\n",
    "history_df.to_csv('history_df_TEST_v1.csv', index=False)"
   ]
  },
  {
   "cell_type": "code",
   "execution_count": null,
   "id": "eb6985947383b987",
   "metadata": {
    "ExecuteTime": {
     "end_time": "2024-04-25T20:02:57.057530Z",
     "start_time": "2024-04-25T20:02:45.376245Z"
    },
    "collapsed": false
   },
   "outputs": [],
   "source": [
    "# Predict and calc metrics  \n",
    "y_pred = model.predict(X_test)\n",
    "print(y_pred)\n",
    "#calculate rmse\n",
    "rmse_value = np.sqrt(mean_squared_error(y_test,y_pred))\n",
    "#calculate r2\n",
    "r2 = r2_score(y_test, y_pred)\n",
    "print(f'Mean Squared Error: {rmse_value}')\n",
    "print(f'R^2 Score: {r2}')"
   ]
  },
  {
   "cell_type": "code",
   "execution_count": null,
   "id": "8f28f4f7a4dfe9d4",
   "metadata": {
    "collapsed": false
   },
   "outputs": [],
   "source": [
    "#pull out humidity, temp, org purple air for prediction visulizaiton \n",
    "X_test"
   ]
  },
  {
   "cell_type": "code",
   "execution_count": null,
   "id": "3e6b60d50caaa74a",
   "metadata": {
    "ExecuteTime": {
     "end_time": "2024-04-15T18:42:14.908498Z",
     "start_time": "2024-04-15T18:42:14.893550Z"
    },
    "collapsed": false
   },
   "outputs": [],
   "source": [
    "#record model parameters and metrics \n",
    "#save metrics\n",
    "data = {'epoch': epoch, \n",
    "        'batch':batchsize,\n",
    "        'units1': units1,\n",
    "        'units2':units2,\n",
    "        'lrate':lrate,\n",
    "        'layers':[2],\n",
    "        'rmse': [rmse_value],\n",
    "        'r2': [r2]}\n",
    "\n",
    "df = pd.DataFrame(data)\n",
    "\n",
    "# Save to CSV\n",
    "df.to_csv('metrics.csv', index=False)"
   ]
  },
  {
   "cell_type": "code",
   "execution_count": null,
   "id": "83b03f93211807e",
   "metadata": {
    "ExecuteTime": {
     "end_time": "2024-04-25T20:04:08.668251Z",
     "start_time": "2024-04-25T20:04:08.510422Z"
    },
    "collapsed": false
   },
   "outputs": [],
   "source": [
    "#write predictions to csv\n",
    "df = pd.DataFrame({'prediction_python': y_pred.flatten(), 'y_test_column': y_test.flatten()})\n",
    "\n",
    "print(df)\n",
    "\n",
    "df.to_csv('pred_python_base_LSTM.csv')"
   ]
  },
  {
   "cell_type": "code",
   "execution_count": null,
   "id": "b1e63100d3d5ad81",
   "metadata": {
    "ExecuteTime": {
     "end_time": "2024-04-15T18:44:14.287049Z",
     "start_time": "2024-04-15T18:44:14.250329Z"
    },
    "collapsed": false
   },
   "outputs": [],
   "source": [
    "#save model\n",
    "model.save(\"model_save.keras\")"
   ]
  },
  {
   "cell_type": "code",
   "execution_count": null,
   "id": "e74e4507163b5d38",
   "metadata": {
    "collapsed": false
   },
   "outputs": [],
   "source": []
  }
 ],
 "metadata": {
  "kernelspec": {
   "display_name": "Python 3",
   "language": "python",
   "name": "python3"
  },
  "language_info": {
   "codemirror_mode": {
    "name": "ipython",
    "version": 2
   },
   "file_extension": ".py",
   "mimetype": "text/x-python",
   "name": "python",
   "nbconvert_exporter": "python",
   "pygments_lexer": "ipython2",
   "version": "2.7.6"
  }
 },
 "nbformat": 4,
 "nbformat_minor": 5
}
