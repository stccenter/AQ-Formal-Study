{
 "cells": [
  {
   "cell_type": "code",
   "execution_count": 1,
   "id": "initial_id",
   "metadata": {
    "collapsed": true,
    "ExecuteTime": {
     "end_time": "2024-04-25T16:19:42.190147Z",
     "start_time": "2024-04-25T16:19:23.484166Z"
    }
   },
   "outputs": [],
   "source": [
    "import numpy as np\n",
    "import pandas as pd\n",
    "import os\n",
    "from sklearn.preprocessing import StandardScaler\n",
    "from tensorflow.keras.models import Sequential\n",
    "from tensorflow.keras.layers import LSTM, Dense\n",
    "from tensorflow.keras.optimizers import Adam\n",
    "from tensorflow.keras.saving import register_keras_serializable\n",
    "from sklearn.metrics import mean_squared_error, r2_score\n",
    "import tensorflow.keras.backend as K\n"
   ]
  },
  {
   "cell_type": "code",
   "outputs": [],
   "source": [
    "#define metrics\n",
    "# Decorate the custom rmse function\n",
    "@register_keras_serializable()\n",
    "def rmse(y_true, y_pred):\n",
    "    return K.sqrt(K.mean(K.square(y_pred - y_true)))\n",
    "\n",
    "def r_squared(y_true, y_pred):\n",
    "    ss_res = K.sum(K.square(y_true - y_pred))\n",
    "    ss_tot = K.sum(K.square(y_true - K.mean(y_true)))\n",
    "    return (1 - ss_res/(ss_tot + K.epsilon()))"
   ],
   "metadata": {
    "collapsed": false,
    "ExecuteTime": {
     "end_time": "2024-04-25T16:19:44.560181Z",
     "start_time": "2024-04-25T16:19:44.548117Z"
    }
   },
   "id": "44a2d83a07c24831",
   "execution_count": 2
  },
  {
   "cell_type": "code",
   "outputs": [],
   "source": [
    "#read in training data\n",
    "#read in numpy arrays \n",
    "X_train=np.load(\"/Users/ttrefoni/Documents/tt_pm25_tuning/data/updt_seq_npy_arrays_80_20/x_train.npy\")\n",
    "X_test=np.load(\"/Users/ttrefoni/Documents/tt_pm25_tuning/data/updt_seq_npy_arrays_80_20/x_test.npy\")\n",
    "y_train=np.load(\"/Users/ttrefoni/Documents/tt_pm25_tuning/data/updt_seq_npy_arrays_80_20/y_train.npy\")\n",
    "y_test=np.load(\"/Users/ttrefoni/Documents/tt_pm25_tuning/data/updt_seq_npy_arrays_80_20/y_test.npy\")"
   ],
   "metadata": {
    "collapsed": false,
    "ExecuteTime": {
     "end_time": "2024-04-25T16:21:45.146195Z",
     "start_time": "2024-04-25T16:21:44.711737Z"
    }
   },
   "id": "5fe27f4166783638",
   "execution_count": 4
  },
  {
   "cell_type": "code",
   "outputs": [],
   "source": [
    "#define HPS\n",
    "epoch=30\n",
    "batchsize=32\n",
    "units1=50\n",
    "units2=50\n",
    "lrate=0.001"
   ],
   "metadata": {
    "collapsed": false,
    "ExecuteTime": {
     "end_time": "2024-04-25T16:22:14.074110Z",
     "start_time": "2024-04-25T16:22:14.064088Z"
    }
   },
   "id": "3274ee90efb37a86",
   "execution_count": 8
  },
  {
   "cell_type": "code",
   "outputs": [],
   "source": [
    "#Define model\n",
    "model = Sequential()\n",
    "model.add(LSTM(units1, return_sequences=True, input_shape=(X_train.shape[1], X_train.shape[2])))\n",
    "model.add(LSTM(units2, return_sequences=False))  # Second LSTM layer with 100 units, return_sequences is False for the final LSTM layer\n",
    "model.add(Dense(1))\n",
    "model.compile(optimizer=Adam(learning_rate=0.001), loss='mean_squared_error')\n"
   ],
   "metadata": {
    "collapsed": false,
    "ExecuteTime": {
     "end_time": "2024-04-25T16:22:16.588114Z",
     "start_time": "2024-04-25T16:22:16.548909Z"
    }
   },
   "id": "1cd3c8221781b017",
   "execution_count": 9
  },
  {
   "cell_type": "code",
   "outputs": [
    {
     "name": "stdout",
     "output_type": "stream",
     "text": [
      "Epoch 1/30\n",
      "19110/19110 - 128s - 7ms/step - loss: 33.4058\n",
      "Epoch 2/30\n",
      "19110/19110 - 127s - 7ms/step - loss: 26.2592\n",
      "Epoch 3/30\n",
      "19110/19110 - 125s - 7ms/step - loss: 24.7968\n",
      "Epoch 4/30\n",
      "19110/19110 - 124s - 6ms/step - loss: 23.8085\n",
      "Epoch 5/30\n",
      "19110/19110 - 126s - 7ms/step - loss: 22.8927\n",
      "Epoch 6/30\n",
      "19110/19110 - 125s - 7ms/step - loss: 22.1253\n",
      "Epoch 7/30\n",
      "19110/19110 - 131s - 7ms/step - loss: 21.4958\n",
      "Epoch 8/30\n",
      "19110/19110 - 126s - 7ms/step - loss: 20.8727\n",
      "Epoch 9/30\n",
      "19110/19110 - 126s - 7ms/step - loss: 20.4871\n",
      "Epoch 10/30\n",
      "19110/19110 - 127s - 7ms/step - loss: 20.0671\n",
      "Epoch 11/30\n",
      "19110/19110 - 127s - 7ms/step - loss: 19.6238\n",
      "Epoch 12/30\n",
      "19110/19110 - 127s - 7ms/step - loss: 19.1411\n",
      "Epoch 13/30\n",
      "19110/19110 - 127s - 7ms/step - loss: 18.7575\n",
      "Epoch 14/30\n",
      "19110/19110 - 128s - 7ms/step - loss: 18.5906\n",
      "Epoch 15/30\n",
      "19110/19110 - 129s - 7ms/step - loss: 18.2843\n",
      "Epoch 16/30\n",
      "19110/19110 - 128s - 7ms/step - loss: 17.9994\n",
      "Epoch 17/30\n",
      "19110/19110 - 128s - 7ms/step - loss: 17.7998\n",
      "Epoch 18/30\n",
      "19110/19110 - 128s - 7ms/step - loss: 17.3871\n",
      "Epoch 19/30\n",
      "19110/19110 - 128s - 7ms/step - loss: 17.2309\n",
      "Epoch 20/30\n",
      "19110/19110 - 127s - 7ms/step - loss: 16.9866\n",
      "Epoch 21/30\n",
      "19110/19110 - 129s - 7ms/step - loss: 16.8246\n",
      "Epoch 22/30\n",
      "19110/19110 - 128s - 7ms/step - loss: 16.6458\n",
      "Epoch 23/30\n",
      "19110/19110 - 127s - 7ms/step - loss: 16.4251\n",
      "Epoch 24/30\n",
      "19110/19110 - 127s - 7ms/step - loss: 16.2447\n",
      "Epoch 25/30\n",
      "19110/19110 - 128s - 7ms/step - loss: 16.2327\n",
      "Epoch 26/30\n",
      "19110/19110 - 128s - 7ms/step - loss: 15.9189\n",
      "Epoch 27/30\n",
      "19110/19110 - 128s - 7ms/step - loss: 15.7793\n",
      "Epoch 28/30\n",
      "19110/19110 - 128s - 7ms/step - loss: 15.5514\n",
      "Epoch 29/30\n",
      "19110/19110 - 127s - 7ms/step - loss: 15.5498\n",
      "Epoch 30/30\n",
      "19110/19110 - 128s - 7ms/step - loss: 15.4570\n",
      "         loss  epoch\n",
      "0   33.405842      1\n",
      "1   26.259243      2\n",
      "2   24.796837      3\n",
      "3   23.808483      4\n",
      "4   22.892750      5\n",
      "5   22.125294      6\n",
      "6   21.495783      7\n",
      "7   20.872736      8\n",
      "8   20.487143      9\n",
      "9   20.067118     10\n",
      "10  19.623753     11\n",
      "11  19.141062     12\n",
      "12  18.757490     13\n",
      "13  18.590645     14\n",
      "14  18.284277     15\n",
      "15  17.999355     16\n",
      "16  17.799805     17\n",
      "17  17.387089     18\n",
      "18  17.230858     19\n",
      "19  16.986626     20\n",
      "20  16.824650     21\n",
      "21  16.645819     22\n",
      "22  16.425056     23\n",
      "23  16.244694     24\n",
      "24  16.232651     25\n",
      "25  15.918912     26\n",
      "26  15.779273     27\n",
      "27  15.551377     28\n",
      "28  15.549797     29\n",
      "29  15.456976     30\n"
     ]
    }
   ],
   "source": [
    "# Train the model\n",
    "history = model.fit(X_train, y_train, epochs=epoch, batch_size=batchsize, verbose=2)\n",
    "# Create a DataFrame from the training history\n",
    "history_df = pd.DataFrame(history.history)\n",
    "history_df['epoch'] = history_df.index + 1  # Add epoch column\n",
    "\n",
    "# Display the DataFrame\n",
    "print(history_df)"
   ],
   "metadata": {
    "collapsed": false,
    "ExecuteTime": {
     "end_time": "2024-04-25T17:25:56.703575Z",
     "start_time": "2024-04-25T16:22:17.290963Z"
    }
   },
   "id": "2bb697b9645f73b4",
   "execution_count": 10
  },
  {
   "cell_type": "code",
   "outputs": [],
   "source": [
    "#save history as df\n",
    "history_df.to_csv('history_df_TEST_v1.csv', index=False)"
   ],
   "metadata": {
    "collapsed": false,
    "ExecuteTime": {
     "end_time": "2024-04-15T18:38:22.686465Z",
     "start_time": "2024-04-15T18:38:22.668202Z"
    }
   },
   "id": "c9b766220fba10fe",
   "execution_count": 7
  },
  {
   "cell_type": "code",
   "outputs": [
    {
     "name": "stdout",
     "output_type": "stream",
     "text": [
      "\u001B[1m4778/4778\u001B[0m \u001B[32m━━━━━━━━━━━━━━━━━━━━\u001B[0m\u001B[37m\u001B[0m \u001B[1m11s\u001B[0m 2ms/step\n",
      "[[21.92774 ]\n",
      " [ 9.668981]\n",
      " [ 8.990298]\n",
      " ...\n",
      " [11.316569]\n",
      " [14.353521]\n",
      " [20.27524 ]]\n",
      "Mean Squared Error: 4.2392018192576835\n",
      "R^2 Score: 0.8587570916512193\n"
     ]
    }
   ],
   "source": [
    "# Predict and calc metrics  \n",
    "y_pred = model.predict(X_test)\n",
    "print(y_pred)\n",
    "#calculate rmse\n",
    "rmse_value = np.sqrt(mean_squared_error(y_test,y_pred))\n",
    "#calculate r2\n",
    "r2 = r2_score(y_test, y_pred)\n",
    "print(f'Mean Squared Error: {rmse_value}')\n",
    "print(f'R^2 Score: {r2}')"
   ],
   "metadata": {
    "collapsed": false,
    "ExecuteTime": {
     "end_time": "2024-04-25T20:02:57.057530Z",
     "start_time": "2024-04-25T20:02:45.376245Z"
    }
   },
   "id": "eb6985947383b987",
   "execution_count": 11
  },
  {
   "cell_type": "code",
   "outputs": [],
   "source": [
    "#pull out humidity, temp, org purple air for prediction visulizaiton \n",
    "X_test"
   ],
   "metadata": {
    "collapsed": false
   },
   "id": "8f28f4f7a4dfe9d4"
  },
  {
   "cell_type": "code",
   "outputs": [],
   "source": [
    "#record model parameters and metrics \n",
    "#save metrics\n",
    "data = {'epoch': epoch, \n",
    "        'batch':batchsize,\n",
    "        'units1': units1,\n",
    "        'units2':units2,\n",
    "        'lrate':lrate,\n",
    "        'layers':[2],\n",
    "        'rmse': [rmse_value],\n",
    "        'r2': [r2]}\n",
    "\n",
    "df = pd.DataFrame(data)\n",
    "\n",
    "# Save to CSV\n",
    "df.to_csv('metrics.csv', index=False)"
   ],
   "metadata": {
    "collapsed": false,
    "ExecuteTime": {
     "end_time": "2024-04-15T18:42:14.908498Z",
     "start_time": "2024-04-15T18:42:14.893550Z"
    }
   },
   "id": "3e6b60d50caaa74a",
   "execution_count": 12
  },
  {
   "cell_type": "code",
   "outputs": [
    {
     "name": "stdout",
     "output_type": "stream",
     "text": [
      "        prediction_python  y_test_column\n",
      "0               21.927740           17.0\n",
      "1                9.668981           12.0\n",
      "2                8.990298            9.0\n",
      "3                8.050897            6.0\n",
      "4                8.584639           23.0\n",
      "...                   ...            ...\n",
      "152874           2.727704            0.9\n",
      "152875           2.840891            2.7\n",
      "152876          11.316569           10.2\n",
      "152877          14.353521           17.0\n",
      "152878          20.275240           17.9\n",
      "\n",
      "[152879 rows x 2 columns]\n"
     ]
    }
   ],
   "source": [
    "#write predictions to csv\n",
    "df = pd.DataFrame({'prediction_python': y_pred.flatten(), 'y_test_column': y_test.flatten()})\n",
    "\n",
    "print(df)\n",
    "\n",
    "df.to_csv('C:/Users/ttrefoni/Documents/tt_pm25_tuning/predictions/pred_python_base_LSTM.csv')"
   ],
   "metadata": {
    "collapsed": false,
    "ExecuteTime": {
     "end_time": "2024-04-25T20:04:08.668251Z",
     "start_time": "2024-04-25T20:04:08.510422Z"
    }
   },
   "id": "83b03f93211807e",
   "execution_count": 12
  },
  {
   "cell_type": "code",
   "outputs": [],
   "source": [
    "#save model\n",
    "model.save(\"LSTM_50_64_200_100_python_updtd.keras\")"
   ],
   "metadata": {
    "collapsed": false,
    "ExecuteTime": {
     "end_time": "2024-04-15T18:44:14.287049Z",
     "start_time": "2024-04-15T18:44:14.250329Z"
    }
   },
   "id": "b1e63100d3d5ad81",
   "execution_count": 14
  },
  {
   "cell_type": "code",
   "outputs": [],
   "source": [],
   "metadata": {
    "collapsed": false
   },
   "id": "e74e4507163b5d38"
  }
 ],
 "metadata": {
  "kernelspec": {
   "display_name": "Python 3",
   "language": "python",
   "name": "python3"
  },
  "language_info": {
   "codemirror_mode": {
    "name": "ipython",
    "version": 2
   },
   "file_extension": ".py",
   "mimetype": "text/x-python",
   "name": "python",
   "nbconvert_exporter": "python",
   "pygments_lexer": "ipython2",
   "version": "2.7.6"
  }
 },
 "nbformat": 4,
 "nbformat_minor": 5
}
